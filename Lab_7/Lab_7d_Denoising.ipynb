{
 "cells": [
  {
   "cell_type": "code",
   "execution_count": null,
   "id": "ef827974-8723-444c-836e-b1656ed97252",
   "metadata": {},
   "outputs": [],
   "source": [
    "!pip install tensorflow_datasets"
   ]
  },
  {
   "cell_type": "code",
   "execution_count": null,
   "id": "e8d5fd81-601e-473a-851f-28a8139f6682",
   "metadata": {},
   "outputs": [],
   "source": [
    "try:\n",
    "  # %tensorflow_version only exists in Colab.\n",
    "  %tensorflow_version 2.x\n",
    "except Exception:\n",
    "  pass\n",
    "  \n",
    "import tensorflow as tf\n",
    "import tensorflow_datasets as tfds\n",
    "\n",
    "import numpy as np\n",
    "import matplotlib.pyplot as plt"
   ]
  },
  {
   "cell_type": "code",
   "execution_count": null,
   "id": "069f714e-15a2-4d57-9b3e-99d9dbc43126",
   "metadata": {},
   "outputs": [],
   "source": [
    "def map_image_with_noise (image , label):\n",
    "    noise_factor=0.5\n",
    "    image = tf.cast(image , dtype =tf.float32 )\n",
    "    image = image /255.0\n",
    "    factor = noise_factor * tf.random.normal(shape = image.shape)\n",
    "    image_noisy = image + factor\n",
    "    image_noisy = tf.clip_by_value(image_noisy , 0.0 , 1.0)\n",
    "    return image_noisy , image\n",
    "    "
   ]
  },
  {
   "cell_type": "code",
   "execution_count": null,
   "id": "75e3db05-eb53-4769-bf52-aa9c672dc74f",
   "metadata": {},
   "outputs": [],
   "source": [
    "BATCH_SIZE = 128\n",
    "SHUFFLE_BUFFER_SIZE = 1024\n",
    "\n",
    "train_dataset = tfds.load('fashion_mnist', as_supervised=True, split=\"train\")\n",
    "train_dataset = train_dataset.map(map_image_with_noise)\n",
    "train_dataset = train_dataset.shuffle(SHUFFLE_BUFFER_SIZE).batch(BATCH_SIZE).repeat()\n",
    "\n",
    "test_dataset = tfds.load('fashion_mnist', as_supervised=True, split=\"test\")\n",
    "test_dataset = test_dataset.map(map_image_with_noise)\n",
    "test_dataset = test_dataset.batch(BATCH_SIZE).repeat()"
   ]
  },
  {
   "cell_type": "code",
   "execution_count": null,
   "id": "0ccec4bb-25b9-4b03-8a02-fe351a30de41",
   "metadata": {},
   "outputs": [],
   "source": [
    "def denoising_encoder(inputs):\n",
    "    conv_1 = tf.keras.layers.Conv2D(filters=64, kernel_size=(3, 3), activation=\"relu\", padding=\"same\")(inputs)\n",
    "    max_pool_1 = tf.keras.layers.MaxPooling2D(pool_size=(2, 2))(conv_1)  # Downsample to (14, 14)\n",
    "    \n",
    "    conv_2 = tf.keras.layers.Conv2D(filters=128, kernel_size=(3, 3), activation=\"relu\", padding=\"same\")(max_pool_1)\n",
    "    max_pool_2 = tf.keras.layers.MaxPooling2D(pool_size=(2, 2))(conv_2)  # Downsample to (7, 7)\n",
    "    \n",
    "    return max_pool_2\n",
    "\n",
    "\n",
    "def decoder(inputs):\n",
    "    conv_1 = tf.keras.layers.Conv2D(filters=128, kernel_size=(3, 3), activation=\"relu\", padding=\"same\")(inputs)\n",
    "    up_sample_1 = tf.keras.layers.UpSampling2D(size=(2, 2))(conv_1)  # Upsample to (14, 14)\n",
    "    \n",
    "    conv_2 = tf.keras.layers.Conv2D(filters=64, kernel_size=(3, 3), activation=\"relu\", padding=\"same\")(up_sample_1)\n",
    "    up_sample_2 = tf.keras.layers.UpSampling2D(size=(2, 2))(conv_2)  # Upsample to (28, 28)\n",
    "    \n",
    "    conv_3 = tf.keras.layers.Conv2D(filters=1, kernel_size=(3, 3), activation=\"sigmoid\", padding=\"same\")(up_sample_2)\n",
    "    return conv_3\n",
    "\n",
    "\n",
    "   \n"
   ]
  },
  {
   "cell_type": "code",
   "execution_count": null,
   "id": "526869d8-570a-4923-ae57-54bd7d718dbe",
   "metadata": {},
   "outputs": [],
   "source": [
    "def build_autoencoder():\n",
    "    inputs = tf.keras.layers.Input(shape=(28, 28, 1))\n",
    "    encoded = denoising_encoder(inputs)\n",
    "    decoded = decoder(encoded)\n",
    "    autoencoder = tf.keras.Model(inputs, decoded)\n",
    "    return autoencoder"
   ]
  },
  {
   "cell_type": "code",
   "execution_count": null,
   "id": "be5033f5-5a63-4710-89e7-cddd9e032d95",
   "metadata": {},
   "outputs": [],
   "source": [
    "autoencoder = build_autoencoder()\n",
    "autoencoder.compile(optimizer='adam', loss='binary_crossentropy')"
   ]
  },
  {
   "cell_type": "code",
   "execution_count": null,
   "id": "e5693340-e4cf-463e-bde8-d3acb585fdfd",
   "metadata": {},
   "outputs": [],
   "source": [
    "history = autoencoder.fit(train_dataset,\n",
    "                          epochs=10,\n",
    "                          steps_per_epoch=60000 // BATCH_SIZE,\n",
    "                          validation_data=test_dataset,\n",
    "                          validation_steps=10000 // BATCH_SIZE)"
   ]
  },
  {
   "cell_type": "code",
   "execution_count": null,
   "id": "9477ec39-e2c5-4a9e-84dd-e2469ed20c06",
   "metadata": {},
   "outputs": [],
   "source": [
    "def display_noisy_and_denoised_images(autoencoder, dataset):\n",
    "    for noisy_images, original_images in dataset.take(1):\n",
    "        denoised_images = autoencoder.predict(noisy_images)\n",
    "        plt.figure(figsize=(20, 4))\n",
    "        for i in range(10):\n",
    "            # Display original noisy images\n",
    "            ax = plt.subplot(2, 10, i + 1)\n",
    "            plt.imshow(noisy_images[i].numpy().reshape(28, 28), cmap='gray')\n",
    "            plt.title(\"Noisy\")\n",
    "            plt.axis(\"off\")\n",
    "            \n",
    "            # Display denoised images\n",
    "            ax = plt.subplot(2, 10, i + 11)\n",
    "            plt.imshow(denoised_images[i].reshape(28, 28), cmap='gray')\n",
    "            plt.title(\"Denoised\")\n",
    "            plt.axis(\"off\")\n",
    "        plt.show()"
   ]
  },
  {
   "cell_type": "code",
   "execution_count": null,
   "id": "d51742e6-adc8-4d83-9b34-c82a151d8f55",
   "metadata": {},
   "outputs": [],
   "source": [
    "display_noisy_and_denoised_images(autoencoder, test_dataset)"
   ]
  }
 ],
 "metadata": {
  "kernelspec": {
   "display_name": "Python 3 (ipykernel)",
   "language": "python",
   "name": "python3"
  },
  "language_info": {
   "codemirror_mode": {
    "name": "ipython",
    "version": 3
   },
   "file_extension": ".py",
   "mimetype": "text/x-python",
   "name": "python",
   "nbconvert_exporter": "python",
   "pygments_lexer": "ipython3",
   "version": "3.12.4"
  }
 },
 "nbformat": 4,
 "nbformat_minor": 5
}
